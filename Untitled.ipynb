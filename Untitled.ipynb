{
 "cells": [
  {
   "cell_type": "code",
   "execution_count": 2,
   "id": "faafe7de-2b5b-450f-8ef7-5b1bb4ec4827",
   "metadata": {},
   "outputs": [],
   "source": [
    "import pandas as pd\n",
    "import numpy as np\n",
    "import random\n",
    "import matplotlib.pyplot as plt\n",
    "import ipywidgets as widgets\n",
    "from IPython.display import display\n",
    "import functools"
   ]
  },
  {
   "cell_type": "code",
   "execution_count": 3,
   "id": "354cb671-e6d7-4f65-aec9-1359b728a0a4",
   "metadata": {},
   "outputs": [
    {
     "data": {
      "application/vnd.jupyter.widget-view+json": {
       "model_id": "ed7acaa778c54aceb4a62dff791d58e5",
       "version_major": 2,
       "version_minor": 0
      },
      "text/plain": [
       "Tab(children=(Output(), Output(), Output()), selected_index=0, titles=('Estaciones de monitoreo', 'Tipo de fue…"
      ]
     },
     "metadata": {},
     "output_type": "display_data"
    }
   ],
   "source": [
    "# Crear las pestañas\n",
    "tab1 = widgets.Output()\n",
    "tab2 = widgets.Output()\n",
    "tab3 = widgets.Output()\n",
    "\n",
    "# Agrupar las pestañas en un contenedor\n",
    "tab = widgets.Tab(children=[tab1, tab2, tab3])\n",
    "tab.set_title(0, 'Estaciones de monitoreo')\n",
    "tab.set_title(1, 'Tipo de fuentes de contaminación')\n",
    "tab.set_title(2, 'Correlación de datos')\n",
    "\n",
    "# Mostrar el contenedor de pestañas\n",
    "display(tab)"
   ]
  },
  {
   "cell_type": "code",
   "execution_count": 4,
   "id": "95861711-3e6d-4f2e-a380-255a57036f3a",
   "metadata": {},
   "outputs": [
    {
     "data": {
      "application/vnd.jupyter.widget-view+json": {
       "model_id": "ed7acaa778c54aceb4a62dff791d58e5",
       "version_major": 2,
       "version_minor": 0
      },
      "text/plain": [
       "Tab(children=(Output(), Output(), Output()), selected_index=0, titles=('Estaciones de monitoreo', 'Tipo de fue…"
      ]
     },
     "metadata": {},
     "output_type": "display_data"
    }
   ],
   "source": [
    "# Contenido de cada pestaña (vacío por ahora)\n",
    "with tab1:\n",
    "    # Encabezado\n",
    "    display(widgets.HTML(\"<h1>Relación entre contaminación atmosférica, densidad vehicular, población e industria</h1>\"))\n",
    "    \n",
    "    # Filtros de fecha\n",
    "    year_range = range(2019, 2025)\n",
    "    desde_year = widgets.Dropdown(options=year_range, description='Desde:', value=year_range[0])\n",
    "    hasta_year = widgets.Dropdown(options=year_range, description='Hasta:', value=year_range[4])\n",
    "    \n",
    "    # Selector de región\n",
    "    regiones_chile = [\n",
    "        'Arica y Parinacota', 'Tarapacá', 'Antofagasta', 'Atacama', \n",
    "        'Coquimbo', 'Valparaíso', 'Metropolitana', \"O'Higgins\", \n",
    "        'Maule', 'Ñuble', 'Biobío', 'Araucanía', 'Los Ríos', \n",
    "        'Los Lagos', 'Aysén', 'Magallanes'\n",
    "    ]\n",
    "    region = widgets.Dropdown(options=regiones_chile, description='Región:')\n",
    "    \n",
    "    # Selector de contaminante\n",
    "    contaminantes = ['PM2.5', 'PM10', 'CO', 'NO2', 'SO2', 'O3']\n",
    "    contaminante = widgets.Dropdown(options=contaminantes, description='Contaminante:')\n",
    "    \n",
    "    # Selector de estación de monitoreo\n",
    "    estaciones = ['Estación 1', 'Estación 2', 'Estación 3', 'Todas las estaciones']\n",
    "    estacion = widgets.Dropdown(options=estaciones, description='Estación:')\n",
    "    \n",
    "    # Organizar controles en filas\n",
    "    filtros_superiores = widgets.HBox([desde_year, hasta_year, region])\n",
    "    filtros_inferiores = widgets.HBox([contaminante, estacion])\n",
    "    \n",
    "    display(filtros_superiores)\n",
    "    display(filtros_inferiores)\n",
    "    \n",
    "    # Área para gráfico principal (mapa o gráfico de relación)\n",
    "    display(widgets.HTML(\"<h3>Mapa/Relación de variables</h3>\"))\n",
    "    grafico_principal = widgets.Output()\n",
    "    with grafico_principal:\n",
    "        # Ejemplo de gráfico placeholder\n",
    "        fig, ax = plt.subplots(figsize=(10, 5))\n",
    "        ax.plot([1, 2, 3], [1, 4, 9])\n",
    "        ax.set_title('Gráfico de ejemplo - Relación contaminación vs densidad vehicular')\n",
    "        plt.show()\n",
    "    display(grafico_principal)\n",
    "    \n",
    "    # Sección de datos de la región seleccionada\n",
    "    display(widgets.HTML(\"<h3>Datos de la región seleccionada</h3>\"))\n",
    "    \n",
    "    # Crear cajas de datos\n",
    "    datos_region = widgets.HBox([\n",
    "        widgets.VBox([\n",
    "            widgets.Label(\"Cantidad población:\"),\n",
    "            widgets.Label(\"Porcentaje poblacional:\"),\n",
    "            widgets.Label(\"Permisos circulación:\"),\n",
    "            widgets.Label(\"Porcentaje permisos:\")\n",
    "        ]),\n",
    "        widgets.VBox([\n",
    "            widgets.Label(\"1,200,000\"),  # Valores de ejemplo\n",
    "            widgets.Label(\"8.5%\"), \n",
    "            widgets.Label(\"450,000\"),\n",
    "            widgets.Label(\"12.3%\")\n",
    "        ])\n",
    "    ])\n",
    "    \n",
    "    # Conclusión regional\n",
    "    conclusion = widgets.Textarea(\n",
    "        value=\"La región muestra niveles de contaminación moderados, con una correlación positiva entre densidad vehicular y emisiones de PM2.5.\",\n",
    "        description='Conclusión:',\n",
    "        disabled=True,\n",
    "        layout={'width': '100%'}\n",
    "    )\n",
    "    \n",
    "    display(datos_region)\n",
    "    display(conclusion)\n",
    "    \n",
    "    # Sección de datos de la antena/estación\n",
    "    display(widgets.HTML(\"<h3>Datos de la estación seleccionada</h3>\"))\n",
    "    \n",
    "    datos_antena = widgets.HBox([\n",
    "        widgets.VBox([\n",
    "            widgets.Label(\"Estación-Región:\"),\n",
    "            widgets.Label(\"Contaminante principal:\"),\n",
    "            widgets.Label(\"Nivel AQI:\"),\n",
    "            widgets.Label(\"Riesgo para la salud:\")\n",
    "        ]),\n",
    "        widgets.VBox([\n",
    "            widgets.Label(\"Estación 2 - Valparaíso\"),  # Valores de ejemplo\n",
    "            widgets.Label(\"PM2.5\"), \n",
    "            widgets.Label(\"78\"),\n",
    "            widgets.Label(\"Moderado\")\n",
    "        ])\n",
    "    ])\n",
    "    \n",
    "    display(datos_antena)\n",
    "    \n",
    "    # Tooltip/infotip sobre AQI (aparecería al pasar mouse)\n",
    "    display(widgets.HTML(\"<small><i>Pase el cursor sobre los valores AQI para ver información sobre riesgos</i></small>\"))\n",
    "\n",
    "# Mostrar el dashboard (las otras pestañas estarían vacías por ahora)\n",
    "display(tab)\n",
    "    \n",
    "with tab2:\n",
    "    display(widgets.HTML(\"<h2>Contenido de la Pestaña 2</h2>\"))\n",
    "    # Aquí puedes añadir widgets, gráficos, etc.\n",
    "    \n",
    "with tab3:\n",
    "    display(widgets.HTML(\"<h2>Contenido de la Pestaña 3</h2>\"))\n",
    "    # Aquí puedes añadir widgets, gráficos, etc."
   ]
  },
  {
   "cell_type": "code",
   "execution_count": null,
   "id": "dfa6968a-6968-4a01-beb9-400609d0718e",
   "metadata": {},
   "outputs": [],
   "source": []
  }
 ],
 "metadata": {
  "kernelspec": {
   "display_name": "Python 3",
   "language": "python",
   "name": "python3"
  },
  "language_info": {
   "codemirror_mode": {
    "name": "ipython",
    "version": 3
   },
   "file_extension": ".py",
   "mimetype": "text/x-python",
   "name": "python",
   "nbconvert_exporter": "python",
   "pygments_lexer": "ipython3",
   "version": "3.13.1"
  }
 },
 "nbformat": 4,
 "nbformat_minor": 5
}
